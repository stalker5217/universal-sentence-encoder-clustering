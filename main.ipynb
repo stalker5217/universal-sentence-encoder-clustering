{
 "metadata": {
  "language_info": {
   "codemirror_mode": {
    "name": "ipython",
    "version": 3
   },
   "file_extension": ".py",
   "mimetype": "text/x-python",
   "name": "python",
   "nbconvert_exporter": "python",
   "pygments_lexer": "ipython3",
   "version": 3
  },
  "orig_nbformat": 2
 },
 "nbformat": 4,
 "nbformat_minor": 2,
 "cells": [
  {
   "cell_type": "markdown",
   "metadata": {},
   "source": [
    "# Sentence Clustering  \n",
    "\n",
    "문장으로 구성된 Raw Data에서 의미가 비슷한 것들을 클러스터로 묶어 분류하는 작업을 진행할 예정이다.\n",
    "이 작업이 어떤 과정으로 이루어지는 필요한 개념과 도구를 알아본다.\n",
    "\n",
    "러프하게 보면 각 문장들을 수치화하고 이 수치를 기반으로, 유사한 값들을 가진 것들끼리 묶는 과정으로 진행된다."
   ]
  },
  {
   "cell_type": "markdown",
   "metadata": {},
   "source": [
    "## DataSet 가져오기  \n",
    "\n",
    "Dataset은 Google BigQuery Public Data Set을 이용한다.\n",
    "\n",
    "> [Google Cloud Public Datasets](https://cloud.google.com/public-datasets/)\n"
   ]
  },
  {
   "cell_type": "code",
   "execution_count": null,
   "metadata": {},
   "outputs": [],
   "source": [
    "from google.cloud import bigquery\n",
    "from google.colab import auth\n",
    "\n",
    "auth.authenticate_user()\n",
    "\n",
    "project_id = 'bigquery-public-data'\n",
    "\n",
    "# # Create a \"Client\" object\n",
    "client = bigquery.Client(project=project_id)\n",
    "\n",
    "# Construct a reference to the \"github_repos\" dataset\n",
    "dataset_ref = client.dataset(\"github_repos\")\n",
    "\n",
    "# API request - fetch the dataset\n",
    "dataset = client.get_dataset(dataset_ref)\n",
    "\n",
    "# Construct a reference to the \"commits\" table\n",
    "table_ref = dataset_ref.table(\"commits\")\n",
    "\n",
    "# API request - fetch the table\n",
    "table = client.get_table(table_ref)\n",
    "\n",
    "# Extract commit message, convert to dataframe\n",
    "dataframe = client.list_rows(table, \n",
    "                 selected_fields=[\n",
    "                      bigquery.SchemaField(\"subject\", \"STRING\")            \n",
    "                 ],\n",
    "                 max_results=300).to_dataframe()\n",
    "\n",
    "commitMessages = dataframe['subject']"
   ]
  }
 ]
}